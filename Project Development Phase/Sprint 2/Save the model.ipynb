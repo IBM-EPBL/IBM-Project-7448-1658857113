{
  "cells": [
    {
      "metadata": {
        "id": "xc49Q0Obkkel"
      },
      "cell_type": "markdown",
      "source": [
        "**SAVE THE MODEL**"
      ]
    },
    {
      "metadata": {
        "id": "GbqfPTV_kn9g"
      },
      "cell_type": "code",
      "source": [
        "model.save('digit_classifier.h5')"
      ],
      "execution_count": null,
      "outputs": []
    },
    {
      "metadata": {
        "colab": {
          "base_uri": "https://localhost:8080/"
        },
        "id": "WCAddh8k8NUE",
        "outputId": "d5b3f10a-e280-418c-e187-e742ffc1c547"
      },
      "cell_type": "code",
      "source": [
        "!tar -zcvf digit_classifier_new.tgz digit_classifier.h5"
      ],
      "execution_count": null,
      "outputs": [
        {
          "output_type": "stream",
          "name": "stdout",
          "text": [
            "digit_classifier.h5\n"
          ]
        }
      ]
    },
    {
      "metadata": {
        "colab": {
          "base_uri": "https://localhost:8080/"
        },
        "id": "AukWBawo8NUF",
        "outputId": "d599bb11-baad-464a-c94f-ee5545fcfe0a"
      },
      "cell_type": "code",
      "source": [
        "ls"
      ],
      "execution_count": null,
      "outputs": [
        {
          "output_type": "stream",
          "name": "stdout",
          "text": [
            "digit_classifier.h5  digit_classifier_new.tgz  \u001b[0m\u001b[01;34msample_data\u001b[0m/\n"
          ]
        }
      ]
    }
  ],
  "metadata": {
    "colab": {
      "collapsed_sections": [],
      "provenance": []
    },
    "kernelspec": {
      "name": "python3",
      "display_name": "Python 3.9",
      "language": "python"
    },
    "language_info": {
      "name": "python",
      "version": "3.9.13",
      "mimetype": "text/x-python",
      "codemirror_mode": {
        "name": "ipython",
        "version": 3
      },
      "pygments_lexer": "ipython3",
      "nbconvert_exporter": "python",
      "file_extension": ".py"
    },
    "vscode": {
      "interpreter": {
        "hash": "26de8804e67928110e272efe0abd5e041334abf8c438489c8d08b60edf364958"
      }
    }
  },
  "nbformat": 4,
  "nbformat_minor": 0
}