{
  "cells": [
    {
      "metadata": {
        "id": "pTcHfpXjlrUw"
      },
      "cell_type": "markdown",
      "source": [
        "**TEST THE MODEL**"
      ]
    },
    {
      "metadata": {
        "colab": {
          "base_uri": "https://localhost:8080/"
        },
        "id": "0ez9s8u6lXMM",
        "outputId": "7e556451-5533-4dc0-8468-dd245ab1194e"
      },
      "cell_type": "code",
      "source": [
        "prediction = model.predict(x_test[:4])\n",
        "print(prediction)"
      ],
      "execution_count": null,
      "outputs": [
        {
          "output_type": "stream",
          "name": "stdout",
          "text": [
            "1/1 [==============================] - 0s 108ms/step\n",
            "[[8.70538934e-04 2.21061549e-04 6.65931730e-04 5.19925915e-03\n",
            "  2.57462636e-03 5.40091365e-04 8.61889421e-05 9.75710332e-01\n",
            "  1.34903414e-03 1.27829695e-02]\n",
            " [6.80019055e-03 1.31854310e-03 8.92376423e-01 2.01102272e-02\n",
            "  6.34684911e-05 1.47361653e-02 3.94890234e-02 1.27065368e-05\n",
            "  2.50078328e-02 8.53763850e-05]\n",
            " [2.49000941e-03 9.30802286e-01 1.34170959e-02 8.77227914e-03\n",
            "  3.10041569e-03 4.12312709e-03 6.07297989e-03 7.22522475e-03\n",
            "  1.98371448e-02 4.15950548e-03]\n",
            " [9.56822813e-01 1.86083059e-06 7.48877123e-04 9.96661372e-04\n",
            "  2.02896350e-04 7.50680827e-03 3.05889007e-02 8.01287242e-04\n",
            "  7.62906682e-04 1.56708644e-03]]\n"
          ]
        }
      ]
    }
  ],
  "metadata": {
    "colab": {
      "collapsed_sections": [],
      "provenance": []
    },
    "kernelspec": {
      "name": "python3",
      "display_name": "Python 3.9",
      "language": "python"
    },
    "language_info": {
      "name": "python",
      "version": "3.9.13",
      "mimetype": "text/x-python",
      "codemirror_mode": {
        "name": "ipython",
        "version": 3
      },
      "pygments_lexer": "ipython3",
      "nbconvert_exporter": "python",
      "file_extension": ".py"
    },
    "vscode": {
      "interpreter": {
        "hash": "26de8804e67928110e272efe0abd5e041334abf8c438489c8d08b60edf364958"
      }
    }
  },
  "nbformat": 4,
  "nbformat_minor": 0
}