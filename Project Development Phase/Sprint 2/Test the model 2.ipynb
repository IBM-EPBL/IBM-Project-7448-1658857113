{
  "cells": [
    {
      "metadata": {
        "id": "YKt_xBiwmXjo"
      },
      "cell_type": "markdown",
      "source": [
        "**TEST THE MODEL**"
      ]
    },
    {
      "metadata": {
        "colab": {
          "base_uri": "https://localhost:8080/"
        },
        "id": "KB3S3WQTmJij",
        "outputId": "3845fb91-df73-465d-d990-a94446b85724"
      },
      "cell_type": "code",
      "source": [
        "prediction = model.predict(x_test[5:9])\n",
        "print(prediction)"
      ],
      "execution_count": null,
      "outputs": [
        {
          "output_type": "stream",
          "name": "stdout",
          "text": [
            "1/1 [==============================] - 0s 27ms/step\n",
            "[[4.80371440e-04 9.71945524e-01 4.21342114e-03 4.49885940e-03\n",
            "  1.03016745e-03 1.12473255e-03 7.29243155e-04 4.59887134e-03\n",
            "  8.90030339e-03 2.47852807e-03]\n",
            " [6.43085979e-04 5.60633896e-04 1.00016349e-03 9.93529893e-03\n",
            "  7.01252699e-01 1.93455964e-02 9.37094155e-04 1.57771483e-01\n",
            "  3.53975706e-02 7.31562972e-02]\n",
            " [1.81028771e-03 2.80785956e-03 1.35027533e-02 2.29648277e-02\n",
            "  1.75788954e-01 8.02495852e-02 4.77405004e-02 1.32139055e-02\n",
            "  3.56500819e-02 6.06271327e-01]\n",
            " [7.30600134e-02 1.92876277e-03 3.04258559e-02 3.54470190e-04\n",
            "  2.64096022e-01 3.62018496e-01 2.31195092e-01 1.30231970e-03\n",
            "  2.66890507e-02 8.92991107e-03]]\n"
          ]
        }
      ]
    }
  ],
  "metadata": {
    "colab": {
      "collapsed_sections": [],
      "provenance": []
    },
    "kernelspec": {
      "name": "python3",
      "display_name": "Python 3.9",
      "language": "python"
    },
    "language_info": {
      "name": "python",
      "version": "3.9.13",
      "mimetype": "text/x-python",
      "codemirror_mode": {
        "name": "ipython",
        "version": 3
      },
      "pygments_lexer": "ipython3",
      "nbconvert_exporter": "python",
      "file_extension": ".py"
    },
    "vscode": {
      "interpreter": {
        "hash": "26de8804e67928110e272efe0abd5e041334abf8c438489c8d08b60edf364958"
      }
    }
  },
  "nbformat": 4,
  "nbformat_minor": 0
}