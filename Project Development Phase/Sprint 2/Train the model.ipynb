{
  "cells": [
    {
      "metadata": {
        "id": "UFb8Bni3e4ql"
      },
      "cell_type": "markdown",
      "source": [
        "**TRAIN THE MODEL**"
      ]
    },
    {
      "metadata": {
        "colab": {
          "base_uri": "https://localhost:8080/"
        },
        "id": "nJ4SC3qge5Nj",
        "outputId": "e1709317-aa2c-4cf6-dfdc-0a0e5d90bc5d"
      },
      "cell_type": "code",
      "source": [
        "hist = model.fit(x_train, y_train,batch_size=20,epochs=5,verbose=1,validation_data=(x_test, y_test))"
      ],
      "execution_count": null,
      "outputs": [
        {
          "output_type": "stream",
          "name": "stdout",
          "text": [
            "Epoch 1/5\n",
            "3000/3000 [==============================] - 249s 82ms/step - loss: 2.0980 - accuracy: 0.3602 - val_loss: 1.7692 - val_accuracy: 0.7317\n",
            "Epoch 2/5\n",
            "3000/3000 [==============================] - 246s 82ms/step - loss: 1.4854 - accuracy: 0.6373 - val_loss: 1.0263 - val_accuracy: 0.8171\n",
            "Epoch 3/5\n",
            "3000/3000 [==============================] - 240s 80ms/step - loss: 0.9836 - accuracy: 0.7249 - val_loss: 0.6623 - val_accuracy: 0.8475\n",
            "Epoch 4/5\n",
            "3000/3000 [==============================] - 238s 79ms/step - loss: 0.7668 - accuracy: 0.7679 - val_loss: 0.5210 - val_accuracy: 0.8662\n",
            "Epoch 5/5\n",
            "3000/3000 [==============================] - 240s 80ms/step - loss: 0.6590 - accuracy: 0.7958 - val_loss: 0.4510 - val_accuracy: 0.8777\n"
          ]
        }
      ]
    }
  ],
  "metadata": {
    "colab": {
      "collapsed_sections": [],
      "provenance": []
    },
    "kernelspec": {
      "name": "python3",
      "display_name": "Python 3.9",
      "language": "python"
    },
    "language_info": {
      "name": "python",
      "version": "3.9.13",
      "mimetype": "text/x-python",
      "codemirror_mode": {
        "name": "ipython",
        "version": 3
      },
      "pygments_lexer": "ipython3",
      "nbconvert_exporter": "python",
      "file_extension": ".py"
    },
    "vscode": {
      "interpreter": {
        "hash": "26de8804e67928110e272efe0abd5e041334abf8c438489c8d08b60edf364958"
      }
    }
  },
  "nbformat": 4,
  "nbformat_minor": 0
}