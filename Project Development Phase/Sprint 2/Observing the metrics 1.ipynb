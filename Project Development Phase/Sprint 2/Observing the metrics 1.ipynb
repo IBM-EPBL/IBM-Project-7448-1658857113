{
  "cells": [
    {
      "metadata": {
        "id": "Ypd6Ey9Be5hl"
      },
      "cell_type": "markdown",
      "source": [
        "**OBSERVING THE METRICS**"
      ]
    },
    {
      "metadata": {
        "colab": {
          "base_uri": "https://localhost:8080/"
        },
        "id": "_HP8dNH3e57O",
        "outputId": "f87c69fa-c734-4479-fd8f-b5052c05987e"
      },
      "cell_type": "code",
      "source": [
        "metrics = model.evaluate(x_test, y_test, verbose=0)\n",
        "print(\"Metrics(Loss and Accuracy):\")\n",
        "print(metrics)"
      ],
      "execution_count": null,
      "outputs": [
        {
          "output_type": "stream",
          "name": "stdout",
          "text": [
            "Metrics(Loss and Accuracy):\n",
            "[0.45104262232780457, 0.8776999711990356]\n"
          ]
        }
      ]
    }
  ],
  "metadata": {
    "colab": {
      "collapsed_sections": [],
      "provenance": []
    },
    "kernelspec": {
      "name": "python3",
      "display_name": "Python 3.9",
      "language": "python"
    },
    "language_info": {
      "name": "python",
      "version": "3.9.13",
      "mimetype": "text/x-python",
      "codemirror_mode": {
        "name": "ipython",
        "version": 3
      },
      "pygments_lexer": "ipython3",
      "nbconvert_exporter": "python",
      "file_extension": ".py"
    },
    "vscode": {
      "interpreter": {
        "hash": "26de8804e67928110e272efe0abd5e041334abf8c438489c8d08b60edf364958"
      }
    }
  },
  "nbformat": 4,
  "nbformat_minor": 0
}