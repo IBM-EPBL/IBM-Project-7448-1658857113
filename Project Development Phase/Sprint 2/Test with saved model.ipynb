{
  "cells": [
    {
      "metadata": {
        "id": "s0CuAnuHmxYd"
      },
      "cell_type": "markdown",
      "source": [
        "**TEST WITH SAVED MODEL**"
      ]
    },
    {
      "metadata": {
        "colab": {
          "base_uri": "https://localhost:8080/",
          "height": 300
        },
        "id": "gjzxHyL6tEMw",
        "outputId": "4af92931-78eb-456f-9560-6b1b1ed91ce0"
      },
      "cell_type": "code",
      "source": [
        "from keras.utils.image_utils import img_to_array\n",
        "from tensorflow.keras.models import load_model\n",
        "model = load_model('/content/digit_classifier.h5')\n",
        "from PIL import Image\n",
        "import numpy as np\n",
        "\n",
        "img = Image.open('/content/sample.jpg').convert(\"L\")\n",
        "img = img.resize((28,28))\n",
        "im2arr = np.array(img)\n",
        "im2arr = im2arr.reshape(1,28,28,1)\n",
        "\n",
        "#display the image\n",
        "import matplotlib.pyplot as plt\n",
        "plt.imshow(img)\n",
        "\n",
        "#predict the image\n",
        "y_predict = model.predict(im2arr)\n",
        "print(np.argmax(y_predict[0]))"
      ],
      "execution_count": null,
      "outputs": [
        {
          "output_type": "stream",
          "name": "stdout",
          "text": [
            "1/1 [==============================] - 0s 75ms/step\n",
            "2\n"
          ]
        },
        {
          "output_type": "display_data",
          "data": {
            "text/plain": [
              "<Figure size 432x288 with 1 Axes>"
            ],
            "image/png": "[encoded data removed]"
          },
          "metadata": {
            "needs_background": "light"
          }
        }
      ]
    }
  ],
  "metadata": {
    "colab": {
      "collapsed_sections": [],
      "provenance": []
    },
    "kernelspec": {
      "name": "python3",
      "display_name": "Python 3.9",
      "language": "python"
    },
    "language_info": {
      "name": "python",
      "version": "3.9.13",
      "mimetype": "text/x-python",
      "codemirror_mode": {
        "name": "ipython",
        "version": 3
      },
      "pygments_lexer": "ipython3",
      "nbconvert_exporter": "python",
      "file_extension": ".py"
    },
    "vscode": {
      "interpreter": {
        "hash": "26de8804e67928110e272efe0abd5e041334abf8c438489c8d08b60edf364958"
      }
    }
  },
  "nbformat": 4,
  "nbformat_minor": 0
}